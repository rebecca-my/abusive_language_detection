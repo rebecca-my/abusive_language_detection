{
 "cells": [
  {
   "cell_type": "code",
   "execution_count": 2,
   "id": "forty-cooler",
   "metadata": {},
   "outputs": [],
   "source": [
    "import warnings\n",
    "warnings.filterwarnings('ignore')\n",
    "import pandas as pd\n",
    "import numpy as np\n",
    "from sklearn.linear_model import LogisticRegression\n",
    "from sklearn.feature_extraction.text import TfidfVectorizer as Vectorizer\n",
    "from sklearn.metrics import accuracy_score, classification_report\n",
    "import matplotlib.pyplot as plt"
   ]
  },
  {
   "cell_type": "code",
   "execution_count": 3,
   "id": "existing-contract",
   "metadata": {},
   "outputs": [],
   "source": [
    "basepath = '/Users/rsciagli/Documents/Spring_2021/ML_CSCI_659/waseem/'"
   ]
  },
  {
   "cell_type": "code",
   "execution_count": 4,
   "id": "hungry-output",
   "metadata": {},
   "outputs": [],
   "source": [
    "train_raw = basepath + 'cleantrain.txt'\n",
    "test_raw = basepath + 'cleantest.txt'\n",
    "train_gold_raw = basepath + 'waseemtrainGold.txt'\n",
    "test_gold_raw = basepath + 'waseemtestGold.txt'"
   ]
  },
  {
   "cell_type": "code",
   "execution_count": 5,
   "id": "dramatic-leadership",
   "metadata": {},
   "outputs": [],
   "source": [
    "with open(train_raw) as f:\n",
    "    train = f.readlines()"
   ]
  },
  {
   "cell_type": "code",
   "execution_count": 6,
   "id": "cathedral-carbon",
   "metadata": {},
   "outputs": [],
   "source": [
    "with open(test_raw) as f:\n",
    "    test = f.readlines()"
   ]
  },
  {
   "cell_type": "code",
   "execution_count": 7,
   "id": "oriented-promise",
   "metadata": {},
   "outputs": [],
   "source": [
    "with open(train_gold_raw) as f:\n",
    "    train_gold = f.readlines()\n",
    "    train_gold = [int(s.strip()) for s in train_gold]"
   ]
  },
  {
   "cell_type": "code",
   "execution_count": 9,
   "id": "careful-guyana",
   "metadata": {},
   "outputs": [
    {
     "data": {
      "text/plain": [
       "(array([4460.,    0.,    0.,    0.,    0.,    0.,    0.,    0.,    0.,\n",
       "        9683.]),\n",
       " array([1. , 1.1, 1.2, 1.3, 1.4, 1.5, 1.6, 1.7, 1.8, 1.9, 2. ]),\n",
       " <BarContainer object of 10 artists>)"
      ]
     },
     "execution_count": 9,
     "metadata": {},
     "output_type": "execute_result"
    },
    {
     "data": {
      "image/png": "[encoded data removed]",
      "text/plain": [
       "<Figure size 432x288 with 1 Axes>"
      ]
     },
     "metadata": {
      "needs_background": "light"
     },
     "output_type": "display_data"
    }
   ],
   "source": [
    "## just looking at the distribution of the two classes.\n",
    "plt.hist(train_gold)"
   ]
  },
  {
   "cell_type": "code",
   "execution_count": 10,
   "id": "minor-hudson",
   "metadata": {},
   "outputs": [],
   "source": [
    "with open(test_gold_raw) as f:\n",
    "    test_gold = f.readlines()\n",
    "    test_gold = [int(s.strip()) for s in test_gold]"
   ]
  },
  {
   "cell_type": "code",
   "execution_count": 11,
   "id": "polished-cameroon",
   "metadata": {},
   "outputs": [
    {
     "data": {
      "text/plain": [
       "(array([ 496.,    0.,    0.,    0.,    0.,    0.,    0.,    0.,    0.,\n",
       "        1076.]),\n",
       " array([1. , 1.1, 1.2, 1.3, 1.4, 1.5, 1.6, 1.7, 1.8, 1.9, 2. ]),\n",
       " <BarContainer object of 10 artists>)"
      ]
     },
     "execution_count": 11,
     "metadata": {},
     "output_type": "execute_result"
    },
    {
     "data": {
      "image/png": "[encoded data removed]",
      "text/plain": [
       "<Figure size 432x288 with 1 Axes>"
      ]
     },
     "metadata": {
      "needs_background": "light"
     },
     "output_type": "display_data"
    }
   ],
   "source": [
    "## just looking at the distribution of the two classes.\n",
    "plt.hist(test_gold)"
   ]
  },
  {
   "cell_type": "code",
   "execution_count": 12,
   "id": "protecting-separate",
   "metadata": {},
   "outputs": [],
   "source": [
    "scaler = Vectorizer(analyzer='char', ngram_range=(1,3), strip_accents='ascii')\n",
    "scaler.fit(train)\n",
    "train_vecs = scaler.transform(train)\n",
    "test_vecs = scaler.transform(test)"
   ]
  },
  {
   "cell_type": "code",
   "execution_count": 22,
   "id": "smooth-letter",
   "metadata": {},
   "outputs": [
    {
     "data": {
      "text/plain": [
       "<14143x23289 sparse matrix of type '<class 'numpy.float64'>'\n",
       "\twith 2540681 stored elements in Compressed Sparse Row format>"
      ]
     },
     "execution_count": 22,
     "metadata": {},
     "output_type": "execute_result"
    }
   ],
   "source": [
    "train_vecs"
   ]
  },
  {
   "cell_type": "code",
   "execution_count": 14,
   "id": "consolidated-maldives",
   "metadata": {},
   "outputs": [
    {
     "data": {
      "text/plain": [
       "<1572x23289 sparse matrix of type '<class 'numpy.float64'>'\n",
       "\twith 282866 stored elements in Compressed Sparse Row format>"
      ]
     },
     "execution_count": 14,
     "metadata": {},
     "output_type": "execute_result"
    }
   ],
   "source": [
    "test_vecs"
   ]
  },
  {
   "cell_type": "code",
   "execution_count": 15,
   "id": "speaking-battle",
   "metadata": {},
   "outputs": [
    {
     "data": {
      "text/plain": [
       "matrix([[0.02934985, 0.22905266, 0.        , ..., 0.        , 0.        ,\n",
       "         0.        ],\n",
       "        [0.028386  , 0.22153054, 0.        , ..., 0.        , 0.        ,\n",
       "         0.        ],\n",
       "        [0.02057281, 0.23191238, 0.        , ..., 0.        , 0.        ,\n",
       "         0.        ],\n",
       "        ...,\n",
       "        [0.        , 0.18058751, 0.        , ..., 0.        , 0.        ,\n",
       "         0.        ],\n",
       "        [0.        , 0.09902707, 0.        , ..., 0.        , 0.        ,\n",
       "         0.        ],\n",
       "        [0.        , 0.08928238, 0.        , ..., 0.        , 0.        ,\n",
       "         0.        ]])"
      ]
     },
     "execution_count": 15,
     "metadata": {},
     "output_type": "execute_result"
    }
   ],
   "source": [
    "## checking to see if .todense() works on the vectors.  Thought maybe we would need to .todense() the vectors\n",
    "## bc of so many columns, but this was not needed.\n",
    "train_vecs.todense()"
   ]
  },
  {
   "cell_type": "code",
   "execution_count": 21,
   "id": "portuguese-kentucky",
   "metadata": {},
   "outputs": [
    {
     "name": "stdout",
     "output_type": "stream",
     "text": [
      "0.001\n",
      "              precision    recall  f1-score   support\n",
      "\n",
      "           1       0.00      0.00      0.00       496\n",
      "           2       0.68      1.00      0.81      1076\n",
      "\n",
      "    accuracy                           0.68      1572\n",
      "   macro avg       0.34      0.50      0.41      1572\n",
      "weighted avg       0.47      0.68      0.56      1572\n",
      "\n",
      "0.01\n",
      "              precision    recall  f1-score   support\n",
      "\n",
      "           1       0.00      0.00      0.00       496\n",
      "           2       0.68      1.00      0.81      1076\n",
      "\n",
      "    accuracy                           0.68      1572\n",
      "   macro avg       0.34      0.50      0.41      1572\n",
      "weighted avg       0.47      0.68      0.56      1572\n",
      "\n",
      "0.1\n",
      "              precision    recall  f1-score   support\n",
      "\n",
      "           1       0.78      0.39      0.52       496\n",
      "           2       0.77      0.95      0.85      1076\n",
      "\n",
      "    accuracy                           0.77      1572\n",
      "   macro avg       0.78      0.67      0.68      1572\n",
      "weighted avg       0.77      0.77      0.75      1572\n",
      "\n",
      "1.0\n",
      "              precision    recall  f1-score   support\n",
      "\n",
      "           1       0.81      0.66      0.72       496\n",
      "           2       0.85      0.93      0.89      1076\n",
      "\n",
      "    accuracy                           0.84      1572\n",
      "   macro avg       0.83      0.79      0.81      1572\n",
      "weighted avg       0.84      0.84      0.84      1572\n",
      "\n",
      "10.0\n",
      "              precision    recall  f1-score   support\n",
      "\n",
      "           1       0.76      0.75      0.76       496\n",
      "           2       0.89      0.89      0.89      1076\n",
      "\n",
      "    accuracy                           0.85      1572\n",
      "   macro avg       0.82      0.82      0.82      1572\n",
      "weighted avg       0.85      0.85      0.85      1572\n",
      "\n"
     ]
    }
   ],
   "source": [
    "for C in [1e-3, 1e-2, 1e-1, 1e0, 1e1]:\n",
    "    model_lr = LogisticRegression(C=C, solver='saga', penalty='l1')\n",
    "    model_lr.fit(train_vecs, train_gold)\n",
    "    pred = model_lr.predict(test_vecs)\n",
    "    print(C)\n",
    "    print(classification_report(test_gold, pred))"
   ]
  },
  {
   "cell_type": "code",
   "execution_count": 17,
   "id": "greek-cabinet",
   "metadata": {},
   "outputs": [
    {
     "data": {
      "text/plain": [
       "array([[ 2.61931285, -3.26826175, -2.89205034, ...,  0.        ,\n",
       "         0.        ,  0.        ]])"
      ]
     },
     "execution_count": 17,
     "metadata": {},
     "output_type": "execute_result"
    }
   ],
   "source": [
    "## looking at the coefficients\n",
    "model_lr.coef_"
   ]
  },
  {
   "cell_type": "code",
   "execution_count": 18,
   "id": "processed-oasis",
   "metadata": {},
   "outputs": [],
   "source": [
    "tokens = np.array(scaler.get_feature_names())"
   ]
  },
  {
   "cell_type": "code",
   "execution_count": 19,
   "id": "successful-stephen",
   "metadata": {},
   "outputs": [
    {
     "data": {
      "text/plain": [
       "['sex', 'fem', 'kat', '@sy', 'cun', '.@', 'itc', '#cu', 'l..', 'hus']"
      ]
     },
     "execution_count": 19,
     "metadata": {},
     "output_type": "execute_result"
    }
   ],
   "source": [
    "## top 10 offensive 3-grams\n",
    "tokens[np.argsort(model_lr.coef_)[0,:10]].tolist()"
   ]
  },
  {
   "cell_type": "code",
   "execution_count": 20,
   "id": "familiar-idaho",
   "metadata": {},
   "outputs": [
    {
     "data": {
      "text/plain": [
       "['sex', 'fem', 'kat', '@sy', 'mee', 'cun', '.@', 'itc', '#cu', 'l..']"
      ]
     },
     "execution_count": 20,
     "metadata": {},
     "output_type": "execute_result"
    }
   ],
   "source": [
    "## top 10 most predictive 3-grams\n",
    "list(reversed(tokens[np.argsort(np.abs(model_lr.coef_))[0,-10:]]))"
   ]
  }
 ],
 "metadata": {
  "kernelspec": {
   "display_name": "Python 3",
   "language": "python",
   "name": "python3"
  },
  "language_info": {
   "codemirror_mode": {
    "name": "ipython",
    "version": 3
   },
   "file_extension": ".py",
   "mimetype": "text/x-python",
   "name": "python",
   "nbconvert_exporter": "python",
   "pygments_lexer": "ipython3",
   "version": "3.7.9"
  }
 },
 "nbformat": 4,
 "nbformat_minor": 5
}
